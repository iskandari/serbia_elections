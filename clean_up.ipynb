{
 "cells": [
  {
   "cell_type": "code",
   "execution_count": 84,
   "id": "ce941d10",
   "metadata": {},
   "outputs": [],
   "source": [
    "import pandas as pd\n",
    "import geopandas as gpd\n",
    "from geopandas import GeoDataFrame\n",
    "from shapely.geometry import Point"
   ]
  },
  {
   "cell_type": "code",
   "execution_count": 85,
   "id": "42c9f273",
   "metadata": {},
   "outputs": [],
   "source": [
    "\n",
    "parliament = pd.read_csv('parlamentarni_2016.csv')\n",
    "opstina = gpd.read_file('Serbia_admin2.geojson')\n",
    "district = gpd.read_file('Serbia_admin1.geojson')"
   ]
  },
  {
   "cell_type": "code",
   "execution_count": 73,
   "id": "081eb1a2",
   "metadata": {},
   "outputs": [],
   "source": [
    "#filter out opstinas that are outside of Serbia (foreign ballots)\n",
    "\n",
    "keep_words = ['Барајево', 'Вождовац',\n",
    "       'Врачар', 'Гроцка', 'Звездара', 'Земун', 'Лазаревац', 'Младеновац',\n",
    "       'Нови Београд', 'Обреновац', 'Палилула', 'Раковица',\n",
    "       'Савски Венац', 'Сопот', 'Стари Град', 'Сурчин', 'Чукарица',\n",
    "       'Севернобачки округ', 'Бачка Топола', 'Мали Иђош', 'Суботица',\n",
    "        'Житиште', 'Зрењанин', 'Нова Црња', 'Нови Бечеј', 'Сечањ',\n",
    "       'Ада', 'Кањижа', 'Кикинда', 'Нови Кнежевац', 'Сента',\n",
    "       'Чока', 'Алибунар', 'Бела Црква', 'Вршац', 'Ковачица', 'Ковин',\n",
    "       'Опово', 'Панчево', 'Пландиште', 'Апатин', 'Кула', 'Оџаци',\n",
    "       'Сомбор', 'Бач', 'Бачка Паланка', 'Бачки Петровац', 'Беочин',\n",
    "       'Бечеј', 'Врбас', 'Жабаљ', 'Нови Сад', 'Србобран',\n",
    "       'Сремски Карловци', 'Темерин', 'Тител', 'Инђија', 'Ириг',\n",
    "       'Пећинци', 'Рума', 'Сремска Митровица', 'Стара Пазова', 'Шид',\n",
    "       'Богатић', 'Владимирци', 'Коцељева', 'Крупањ', 'Лозница',\n",
    "       'Љубовија', 'Мали Зворник', 'Шабац', 'Ваљево', 'Лајковац', 'Љиг',\n",
    "       'Мионица', 'Осечина', 'Уб', 'Велика Плана', 'Смедерево',\n",
    "       'Смедеревска Паланка', 'Велико Градиште', 'Голубац', 'Жабари',\n",
    "       'Жагубица', 'Костолац', 'Кучево', 'Мало Црниће', 'Петровац',\n",
    "       'Пожаревац', 'Аранђеловац', 'Баточина', 'Кнић', 'Крагујевац',\n",
    "       'Лапово', 'Рача', 'Топола', 'Деспотовац', 'Јагодина', 'Параћин',\n",
    "       'Рековац', 'Свилајнац', 'Ћуприја', 'Бор', 'Кладово', 'Мајданпек',\n",
    "       'Неготин', 'Бољевац', 'Зајечар', 'Књажевац', 'Сокобања', 'Ариље',\n",
    "       'Бајина Башта', 'Косјерић', 'Нова Варош', 'Пожега', 'Прибој',\n",
    "       'Пријепоље', 'Сјеница', 'Ужице', 'Чајетина', 'Горњи Милановац',\n",
    "       'Ивањица', 'Лучани', 'Чачак', 'Врњачка Бања', 'Краљево',\n",
    "       'Нови Пазар', 'Рашка', 'Тутин', 'Александровац', 'Брус',\n",
    "       'Варварин', 'Крушевац', 'Трстеник', 'Ћићевац', 'Алексинац',\n",
    "       'Гаџин Хан', 'Дољевац', 'Мерошина', 'Ниш', 'Ражањ', 'Сврљиг',\n",
    "       'Блаце', 'Житорађа', 'Куршумлија', 'Прокупље', 'Бабушница',\n",
    "       'Бела Паланка', 'Димитровград', 'Пирот', 'Бојник', 'Власотинце',\n",
    "       'Лебане', 'Лесковац', 'Медвеђа', 'Црна Трава', 'Босилеград',\n",
    "       'Бујановац', 'Владичин Хан', 'Врање', 'Прешево', 'Сурдулица',\n",
    "       'Трговиште', 'Косово Поље', 'Липљан', 'Приштина - град', 'Штрпце',\n",
    "       'Пећ', 'Гора', 'Ораховац', 'Вучитрн', 'Звечан', 'Зубин Поток',\n",
    "       'Косовска Митровица', 'Лепосавић', 'Витина', 'Гњилане',\n",
    "       'Косовска Каменица', 'Ново Брдо']"
   ]
  },
  {
   "cell_type": "code",
   "execution_count": 74,
   "id": "0d5c3f53",
   "metadata": {},
   "outputs": [
    {
     "data": {
      "text/plain": [
       "(8316, 31)"
      ]
     },
     "execution_count": 74,
     "metadata": {},
     "output_type": "execute_result"
    }
   ],
   "source": [
    "parliament['Назив општине '] = parliament['Назив општине '].str.strip()\n",
    "parliament = parliament[parliament['Назив општине '].isin(keep_words)]\n",
    "parliament.dropna(axis=0, subset=['Адреса бирачког места'], inplace=True)\n",
    "parliament.shape"
   ]
  },
  {
   "cell_type": "code",
   "execution_count": 75,
   "id": "8249f5cd",
   "metadata": {},
   "outputs": [],
   "source": [
    "#drop unnecessary columsn before summing results by opstina, use only party counts\n",
    "\n",
    "cols_to_drop = ['Рбр. бирачког места ', 'Адреса бирачког места',\n",
    "       'Coordinates', 'Уписани бирачи ', 'Примqени ', 'Неупотреб-qени ',\n",
    "       'Гласали ', 'У гласачкој кутији', 'Неважећи ', 'Важећи']"
   ]
  },
  {
   "cell_type": "code",
   "execution_count": 76,
   "id": "ac75ac2e",
   "metadata": {},
   "outputs": [],
   "source": [
    "parliament.drop(cols_to_drop, axis = 1, inplace=True)"
   ]
  },
  {
   "cell_type": "code",
   "execution_count": 77,
   "id": "17636a95",
   "metadata": {},
   "outputs": [],
   "source": [
    "#group results by opstina\n",
    "grouped = parliament.groupby('Назив општине ')[parliament.columns[1:]].agg('sum').reset_index()"
   ]
  },
  {
   "cell_type": "code",
   "execution_count": 90,
   "id": "dde008f6",
   "metadata": {},
   "outputs": [],
   "source": [
    "sp_join = opstina.merge(grouped, left_on='NL_NAME_2', right_on='Назив општине ', indicator=False, how='left')"
   ]
  },
  {
   "cell_type": "code",
   "execution_count": 91,
   "id": "783c8099",
   "metadata": {},
   "outputs": [
    {
     "name": "stderr",
     "output_type": "stream",
     "text": [
      "/home/alexander/.cache/pypoetry/virtualenvs/serbia-6Rf6d_AT-py3.9/lib/python3.9/site-packages/geopandas/io/file.py:362: FutureWarning: pandas.Int64Index is deprecated and will be removed from pandas in a future version. Use pandas.Index with the appropriate dtype instead.\n",
      "  pd.Int64Index,\n"
     ]
    }
   ],
   "source": [
    "sp_join.to_file('results_by_opstina.geojson', driver='GeoJSON')"
   ]
  },
  {
   "cell_type": "code",
   "execution_count": 7,
   "id": "8c0aeca1",
   "metadata": {},
   "outputs": [],
   "source": [
    "#point in poly using coordinates\n",
    "\n",
    "parliament[['lat', 'lon']] = parliament['Coordinates'].str.split(',', 1, expand=True)\n",
    "parliament['lon'] = parliament['lon'].astype(float)\n",
    "parliament['lat'] = parliament['lat'].astype(float)"
   ]
  },
  {
   "cell_type": "code",
   "execution_count": 8,
   "id": "f4a67510",
   "metadata": {},
   "outputs": [],
   "source": [
    "geometry = [Point(xy) for xy in zip(parliament.lon, parliament.lat)]\n",
    "parliament = parliament.drop(['lon', 'lat'], axis=1)\n",
    "parliament = GeoDataFrame(parliament, crs=\"EPSG:4326\", geometry=geometry)"
   ]
  },
  {
   "cell_type": "code",
   "execution_count": 11,
   "id": "c4e17ca3",
   "metadata": {},
   "outputs": [
    {
     "name": "stderr",
     "output_type": "stream",
     "text": [
      "/home/alexander/.cache/pypoetry/virtualenvs/serbia-6Rf6d_AT-py3.9/lib/python3.9/site-packages/geopandas/io/file.py:362: FutureWarning: pandas.Int64Index is deprecated and will be removed from pandas in a future version. Use pandas.Index with the appropriate dtype instead.\n",
      "  pd.Int64Index,\n"
     ]
    }
   ],
   "source": [
    "parliament.to_file(\"parliament_points.geojson\", driver='GeoJSON')"
   ]
  },
  {
   "cell_type": "code",
   "execution_count": 9,
   "id": "abde88cb",
   "metadata": {
    "scrolled": true
   },
   "outputs": [
    {
     "name": "stderr",
     "output_type": "stream",
     "text": [
      "/home/alexander/.cache/pypoetry/virtualenvs/serbia-6Rf6d_AT-py3.9/lib/python3.9/site-packages/IPython/core/interactiveshell.py:3309: FutureWarning: The `op` parameter is deprecated and will be removed in a future release. Please use the `predicate` parameter instead.\n",
      "  if await self.run_code(code, result, async_=asy):\n"
     ]
    }
   ],
   "source": [
    "pointInPoly = gpd.sjoin(parliament, opstina[['NAME_2', , op='within') "
   ]
  }
 ],
 "metadata": {
  "kernelspec": {
   "display_name": "Python 3 (ipykernel)",
   "language": "python",
   "name": "python3"
  },
  "language_info": {
   "codemirror_mode": {
    "name": "ipython",
    "version": 3
   },
   "file_extension": ".py",
   "mimetype": "text/x-python",
   "name": "python",
   "nbconvert_exporter": "python",
   "pygments_lexer": "ipython3",
   "version": "3.9.0"
  }
 },
 "nbformat": 4,
 "nbformat_minor": 5
}
